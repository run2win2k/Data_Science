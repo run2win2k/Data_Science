{
 "cells": [
  {
   "cell_type": "code",
   "execution_count": 1,
   "metadata": {},
   "outputs": [],
   "source": [
    "import pandas as pd\n",
    "import random\n",
    "import numpy as np\n",
    "import matplotlib.pyplot as plt"
   ]
  },
  {
   "cell_type": "markdown",
   "metadata": {},
   "source": [
    "Data from: https://www.census.gov/data/tables/time-series/demo/popest/2010s-state-detail.html\n",
    "Age, Sex, Race, and Hispanic Origin - 6 race groups (5 race alone groups and one multiple race group) (SC-EST2019-ALLDATA6) "
   ]
  },
  {
   "cell_type": "code",
   "execution_count": 2,
   "metadata": {},
   "outputs": [
    {
     "data": {
      "text/html": [
       "<div>\n",
       "<style scoped>\n",
       "    .dataframe tbody tr th:only-of-type {\n",
       "        vertical-align: middle;\n",
       "    }\n",
       "\n",
       "    .dataframe tbody tr th {\n",
       "        vertical-align: top;\n",
       "    }\n",
       "\n",
       "    .dataframe thead th {\n",
       "        text-align: right;\n",
       "    }\n",
       "</style>\n",
       "<table border=\"1\" class=\"dataframe\">\n",
       "  <thead>\n",
       "    <tr style=\"text-align: right;\">\n",
       "      <th></th>\n",
       "      <th>SUMLEV</th>\n",
       "      <th>REGION</th>\n",
       "      <th>DIVISION</th>\n",
       "      <th>STATE</th>\n",
       "      <th>NAME</th>\n",
       "      <th>SEX</th>\n",
       "      <th>ORIGIN</th>\n",
       "      <th>RACE</th>\n",
       "      <th>AGE</th>\n",
       "      <th>CENSUS2010POP</th>\n",
       "      <th>...</th>\n",
       "      <th>POPESTIMATE2010</th>\n",
       "      <th>POPESTIMATE2011</th>\n",
       "      <th>POPESTIMATE2012</th>\n",
       "      <th>POPESTIMATE2013</th>\n",
       "      <th>POPESTIMATE2014</th>\n",
       "      <th>POPESTIMATE2015</th>\n",
       "      <th>POPESTIMATE2016</th>\n",
       "      <th>POPESTIMATE2017</th>\n",
       "      <th>POPESTIMATE2018</th>\n",
       "      <th>POPESTIMATE2019</th>\n",
       "    </tr>\n",
       "  </thead>\n",
       "  <tbody>\n",
       "    <tr>\n",
       "      <td>0</td>\n",
       "      <td>40</td>\n",
       "      <td>3</td>\n",
       "      <td>6</td>\n",
       "      <td>1</td>\n",
       "      <td>Alabama</td>\n",
       "      <td>0</td>\n",
       "      <td>0</td>\n",
       "      <td>1</td>\n",
       "      <td>0</td>\n",
       "      <td>37991</td>\n",
       "      <td>...</td>\n",
       "      <td>37818</td>\n",
       "      <td>38678</td>\n",
       "      <td>37824</td>\n",
       "      <td>36812</td>\n",
       "      <td>37575</td>\n",
       "      <td>37698</td>\n",
       "      <td>37629</td>\n",
       "      <td>37526</td>\n",
       "      <td>36370</td>\n",
       "      <td>35594</td>\n",
       "    </tr>\n",
       "    <tr>\n",
       "      <td>1</td>\n",
       "      <td>40</td>\n",
       "      <td>3</td>\n",
       "      <td>6</td>\n",
       "      <td>1</td>\n",
       "      <td>Alabama</td>\n",
       "      <td>0</td>\n",
       "      <td>0</td>\n",
       "      <td>1</td>\n",
       "      <td>1</td>\n",
       "      <td>38150</td>\n",
       "      <td>...</td>\n",
       "      <td>38036</td>\n",
       "      <td>37719</td>\n",
       "      <td>38597</td>\n",
       "      <td>37854</td>\n",
       "      <td>36968</td>\n",
       "      <td>37882</td>\n",
       "      <td>37732</td>\n",
       "      <td>37904</td>\n",
       "      <td>37641</td>\n",
       "      <td>36679</td>\n",
       "    </tr>\n",
       "    <tr>\n",
       "      <td>2</td>\n",
       "      <td>40</td>\n",
       "      <td>3</td>\n",
       "      <td>6</td>\n",
       "      <td>1</td>\n",
       "      <td>Alabama</td>\n",
       "      <td>0</td>\n",
       "      <td>0</td>\n",
       "      <td>1</td>\n",
       "      <td>2</td>\n",
       "      <td>39738</td>\n",
       "      <td>...</td>\n",
       "      <td>39570</td>\n",
       "      <td>38202</td>\n",
       "      <td>37653</td>\n",
       "      <td>38528</td>\n",
       "      <td>37769</td>\n",
       "      <td>37123</td>\n",
       "      <td>38048</td>\n",
       "      <td>37975</td>\n",
       "      <td>38172</td>\n",
       "      <td>37904</td>\n",
       "    </tr>\n",
       "    <tr>\n",
       "      <td>3</td>\n",
       "      <td>40</td>\n",
       "      <td>3</td>\n",
       "      <td>6</td>\n",
       "      <td>1</td>\n",
       "      <td>Alabama</td>\n",
       "      <td>0</td>\n",
       "      <td>0</td>\n",
       "      <td>1</td>\n",
       "      <td>3</td>\n",
       "      <td>39827</td>\n",
       "      <td>...</td>\n",
       "      <td>39805</td>\n",
       "      <td>39690</td>\n",
       "      <td>38113</td>\n",
       "      <td>37716</td>\n",
       "      <td>38605</td>\n",
       "      <td>37896</td>\n",
       "      <td>37266</td>\n",
       "      <td>38170</td>\n",
       "      <td>38197</td>\n",
       "      <td>38510</td>\n",
       "    </tr>\n",
       "    <tr>\n",
       "      <td>4</td>\n",
       "      <td>40</td>\n",
       "      <td>3</td>\n",
       "      <td>6</td>\n",
       "      <td>1</td>\n",
       "      <td>Alabama</td>\n",
       "      <td>0</td>\n",
       "      <td>0</td>\n",
       "      <td>1</td>\n",
       "      <td>4</td>\n",
       "      <td>39353</td>\n",
       "      <td>...</td>\n",
       "      <td>39493</td>\n",
       "      <td>39872</td>\n",
       "      <td>39628</td>\n",
       "      <td>38122</td>\n",
       "      <td>37751</td>\n",
       "      <td>38625</td>\n",
       "      <td>37954</td>\n",
       "      <td>37322</td>\n",
       "      <td>38312</td>\n",
       "      <td>38476</td>\n",
       "    </tr>\n",
       "  </tbody>\n",
       "</table>\n",
       "<p>5 rows × 21 columns</p>\n",
       "</div>"
      ],
      "text/plain": [
       "   SUMLEV  REGION  DIVISION  STATE     NAME  SEX  ORIGIN  RACE  AGE  \\\n",
       "0      40       3         6      1  Alabama    0       0     1    0   \n",
       "1      40       3         6      1  Alabama    0       0     1    1   \n",
       "2      40       3         6      1  Alabama    0       0     1    2   \n",
       "3      40       3         6      1  Alabama    0       0     1    3   \n",
       "4      40       3         6      1  Alabama    0       0     1    4   \n",
       "\n",
       "   CENSUS2010POP  ...  POPESTIMATE2010  POPESTIMATE2011  POPESTIMATE2012  \\\n",
       "0          37991  ...            37818            38678            37824   \n",
       "1          38150  ...            38036            37719            38597   \n",
       "2          39738  ...            39570            38202            37653   \n",
       "3          39827  ...            39805            39690            38113   \n",
       "4          39353  ...            39493            39872            39628   \n",
       "\n",
       "   POPESTIMATE2013  POPESTIMATE2014  POPESTIMATE2015  POPESTIMATE2016  \\\n",
       "0            36812            37575            37698            37629   \n",
       "1            37854            36968            37882            37732   \n",
       "2            38528            37769            37123            38048   \n",
       "3            37716            38605            37896            37266   \n",
       "4            38122            37751            38625            37954   \n",
       "\n",
       "   POPESTIMATE2017  POPESTIMATE2018  POPESTIMATE2019  \n",
       "0            37526            36370            35594  \n",
       "1            37904            37641            36679  \n",
       "2            37975            38172            37904  \n",
       "3            38170            38197            38510  \n",
       "4            37322            38312            38476  \n",
       "\n",
       "[5 rows x 21 columns]"
      ]
     },
     "execution_count": 2,
     "metadata": {},
     "output_type": "execute_result"
    }
   ],
   "source": [
    "census_data = pd.read_csv('sc-est2019-alldata6.csv')\n",
    "census_data.head()"
   ]
  },
  {
   "cell_type": "code",
   "execution_count": 3,
   "metadata": {},
   "outputs": [
    {
     "name": "stdout",
     "output_type": "stream",
     "text": [
      "<class 'pandas.core.frame.DataFrame'>\n",
      "RangeIndex: 236844 entries, 0 to 236843\n",
      "Data columns (total 21 columns):\n",
      "SUMLEV               236844 non-null int64\n",
      "REGION               236844 non-null int64\n",
      "DIVISION             236844 non-null int64\n",
      "STATE                236844 non-null int64\n",
      "NAME                 236844 non-null object\n",
      "SEX                  236844 non-null int64\n",
      "ORIGIN               236844 non-null int64\n",
      "RACE                 236844 non-null int64\n",
      "AGE                  236844 non-null int64\n",
      "CENSUS2010POP        236844 non-null int64\n",
      "ESTIMATESBASE2010    236844 non-null int64\n",
      "POPESTIMATE2010      236844 non-null int64\n",
      "POPESTIMATE2011      236844 non-null int64\n",
      "POPESTIMATE2012      236844 non-null int64\n",
      "POPESTIMATE2013      236844 non-null int64\n",
      "POPESTIMATE2014      236844 non-null int64\n",
      "POPESTIMATE2015      236844 non-null int64\n",
      "POPESTIMATE2016      236844 non-null int64\n",
      "POPESTIMATE2017      236844 non-null int64\n",
      "POPESTIMATE2018      236844 non-null int64\n",
      "POPESTIMATE2019      236844 non-null int64\n",
      "dtypes: int64(20), object(1)\n",
      "memory usage: 37.9+ MB\n"
     ]
    }
   ],
   "source": [
    "census_data.info()"
   ]
  },
  {
   "cell_type": "code",
   "execution_count": 4,
   "metadata": {},
   "outputs": [
    {
     "data": {
      "text/plain": [
       "Index(['SUMLEV', 'REGION', 'DIVISION', 'STATE', 'NAME', 'SEX', 'ORIGIN',\n",
       "       'RACE', 'AGE', 'CENSUS2010POP', 'ESTIMATESBASE2010', 'POPESTIMATE2010',\n",
       "       'POPESTIMATE2011', 'POPESTIMATE2012', 'POPESTIMATE2013',\n",
       "       'POPESTIMATE2014', 'POPESTIMATE2015', 'POPESTIMATE2016',\n",
       "       'POPESTIMATE2017', 'POPESTIMATE2018', 'POPESTIMATE2019'],\n",
       "      dtype='object')"
      ]
     },
     "execution_count": 4,
     "metadata": {},
     "output_type": "execute_result"
    }
   ],
   "source": [
    "census_data.columns"
   ]
  },
  {
   "cell_type": "code",
   "execution_count": 5,
   "metadata": {},
   "outputs": [
    {
     "data": {
      "text/plain": [
       "(236844, 21)"
      ]
     },
     "execution_count": 5,
     "metadata": {},
     "output_type": "execute_result"
    }
   ],
   "source": [
    "census_data.shape"
   ]
  },
  {
   "cell_type": "code",
   "execution_count": 6,
   "metadata": {},
   "outputs": [
    {
     "data": {
      "text/plain": [
       "{1: 'White',\n",
       " 2: 'African American',\n",
       " 3: 'Native American',\n",
       " 4: 'Asian',\n",
       " 5: 'Pacific Islander',\n",
       " 6: 'Mixed'}"
      ]
     },
     "execution_count": 6,
     "metadata": {},
     "output_type": "execute_result"
    }
   ],
   "source": [
    "race_dict= {1: 'White', 2:'African American',3: 'Native American', 4: 'Asian',5: 'Pacific Islander', 6: 'Mixed'}\n",
    "race_dict"
   ]
  },
  {
   "cell_type": "code",
   "execution_count": 7,
   "metadata": {},
   "outputs": [],
   "source": [
    "census_data['Race Group'] = census_data['RACE'].map(race_dict)"
   ]
  },
  {
   "cell_type": "markdown",
   "metadata": {},
   "source": [
    "Create 3 broad race categories, 'White, non-hispanic','Hispanic', 'Black, non-hispanic', 'Other'.  Other is any person who is neither black, white, or hispanic."
   ]
  },
  {
   "cell_type": "markdown",
   "metadata": {},
   "source": [
    "Combined: Origin = 0, non-Hispanic: Origin = 1, Hispanic: Origin = 2 from: https://www2.census.gov/programs-surveys/popest/technical-documentation/file-layouts/2010-2019/sc-est2019-alldata6.pdf"
   ]
  },
  {
   "cell_type": "code",
   "execution_count": 8,
   "metadata": {},
   "outputs": [
    {
     "data": {
      "text/html": [
       "<div>\n",
       "<style scoped>\n",
       "    .dataframe tbody tr th:only-of-type {\n",
       "        vertical-align: middle;\n",
       "    }\n",
       "\n",
       "    .dataframe tbody tr th {\n",
       "        vertical-align: top;\n",
       "    }\n",
       "\n",
       "    .dataframe thead th {\n",
       "        text-align: right;\n",
       "    }\n",
       "</style>\n",
       "<table border=\"1\" class=\"dataframe\">\n",
       "  <thead>\n",
       "    <tr style=\"text-align: right;\">\n",
       "      <th></th>\n",
       "      <th>SUMLEV</th>\n",
       "      <th>REGION</th>\n",
       "      <th>DIVISION</th>\n",
       "      <th>STATE</th>\n",
       "      <th>NAME</th>\n",
       "      <th>SEX</th>\n",
       "      <th>ORIGIN</th>\n",
       "      <th>RACE</th>\n",
       "      <th>AGE</th>\n",
       "      <th>CENSUS2010POP</th>\n",
       "      <th>...</th>\n",
       "      <th>POPESTIMATE2012</th>\n",
       "      <th>POPESTIMATE2013</th>\n",
       "      <th>POPESTIMATE2014</th>\n",
       "      <th>POPESTIMATE2015</th>\n",
       "      <th>POPESTIMATE2016</th>\n",
       "      <th>POPESTIMATE2017</th>\n",
       "      <th>POPESTIMATE2018</th>\n",
       "      <th>POPESTIMATE2019</th>\n",
       "      <th>Race Group</th>\n",
       "      <th>Race Category</th>\n",
       "    </tr>\n",
       "  </thead>\n",
       "  <tbody>\n",
       "    <tr>\n",
       "      <td>0</td>\n",
       "      <td>40</td>\n",
       "      <td>3</td>\n",
       "      <td>6</td>\n",
       "      <td>1</td>\n",
       "      <td>Alabama</td>\n",
       "      <td>0</td>\n",
       "      <td>0</td>\n",
       "      <td>1</td>\n",
       "      <td>0</td>\n",
       "      <td>37991</td>\n",
       "      <td>...</td>\n",
       "      <td>37824</td>\n",
       "      <td>36812</td>\n",
       "      <td>37575</td>\n",
       "      <td>37698</td>\n",
       "      <td>37629</td>\n",
       "      <td>37526</td>\n",
       "      <td>36370</td>\n",
       "      <td>35594</td>\n",
       "      <td>White</td>\n",
       "      <td>White</td>\n",
       "    </tr>\n",
       "    <tr>\n",
       "      <td>1</td>\n",
       "      <td>40</td>\n",
       "      <td>3</td>\n",
       "      <td>6</td>\n",
       "      <td>1</td>\n",
       "      <td>Alabama</td>\n",
       "      <td>0</td>\n",
       "      <td>0</td>\n",
       "      <td>1</td>\n",
       "      <td>1</td>\n",
       "      <td>38150</td>\n",
       "      <td>...</td>\n",
       "      <td>38597</td>\n",
       "      <td>37854</td>\n",
       "      <td>36968</td>\n",
       "      <td>37882</td>\n",
       "      <td>37732</td>\n",
       "      <td>37904</td>\n",
       "      <td>37641</td>\n",
       "      <td>36679</td>\n",
       "      <td>White</td>\n",
       "      <td>White</td>\n",
       "    </tr>\n",
       "    <tr>\n",
       "      <td>2</td>\n",
       "      <td>40</td>\n",
       "      <td>3</td>\n",
       "      <td>6</td>\n",
       "      <td>1</td>\n",
       "      <td>Alabama</td>\n",
       "      <td>0</td>\n",
       "      <td>0</td>\n",
       "      <td>1</td>\n",
       "      <td>2</td>\n",
       "      <td>39738</td>\n",
       "      <td>...</td>\n",
       "      <td>37653</td>\n",
       "      <td>38528</td>\n",
       "      <td>37769</td>\n",
       "      <td>37123</td>\n",
       "      <td>38048</td>\n",
       "      <td>37975</td>\n",
       "      <td>38172</td>\n",
       "      <td>37904</td>\n",
       "      <td>White</td>\n",
       "      <td>White</td>\n",
       "    </tr>\n",
       "    <tr>\n",
       "      <td>3</td>\n",
       "      <td>40</td>\n",
       "      <td>3</td>\n",
       "      <td>6</td>\n",
       "      <td>1</td>\n",
       "      <td>Alabama</td>\n",
       "      <td>0</td>\n",
       "      <td>0</td>\n",
       "      <td>1</td>\n",
       "      <td>3</td>\n",
       "      <td>39827</td>\n",
       "      <td>...</td>\n",
       "      <td>38113</td>\n",
       "      <td>37716</td>\n",
       "      <td>38605</td>\n",
       "      <td>37896</td>\n",
       "      <td>37266</td>\n",
       "      <td>38170</td>\n",
       "      <td>38197</td>\n",
       "      <td>38510</td>\n",
       "      <td>White</td>\n",
       "      <td>White</td>\n",
       "    </tr>\n",
       "    <tr>\n",
       "      <td>4</td>\n",
       "      <td>40</td>\n",
       "      <td>3</td>\n",
       "      <td>6</td>\n",
       "      <td>1</td>\n",
       "      <td>Alabama</td>\n",
       "      <td>0</td>\n",
       "      <td>0</td>\n",
       "      <td>1</td>\n",
       "      <td>4</td>\n",
       "      <td>39353</td>\n",
       "      <td>...</td>\n",
       "      <td>39628</td>\n",
       "      <td>38122</td>\n",
       "      <td>37751</td>\n",
       "      <td>38625</td>\n",
       "      <td>37954</td>\n",
       "      <td>37322</td>\n",
       "      <td>38312</td>\n",
       "      <td>38476</td>\n",
       "      <td>White</td>\n",
       "      <td>White</td>\n",
       "    </tr>\n",
       "  </tbody>\n",
       "</table>\n",
       "<p>5 rows × 23 columns</p>\n",
       "</div>"
      ],
      "text/plain": [
       "   SUMLEV  REGION  DIVISION  STATE     NAME  SEX  ORIGIN  RACE  AGE  \\\n",
       "0      40       3         6      1  Alabama    0       0     1    0   \n",
       "1      40       3         6      1  Alabama    0       0     1    1   \n",
       "2      40       3         6      1  Alabama    0       0     1    2   \n",
       "3      40       3         6      1  Alabama    0       0     1    3   \n",
       "4      40       3         6      1  Alabama    0       0     1    4   \n",
       "\n",
       "   CENSUS2010POP  ...  POPESTIMATE2012  POPESTIMATE2013  POPESTIMATE2014  \\\n",
       "0          37991  ...            37824            36812            37575   \n",
       "1          38150  ...            38597            37854            36968   \n",
       "2          39738  ...            37653            38528            37769   \n",
       "3          39827  ...            38113            37716            38605   \n",
       "4          39353  ...            39628            38122            37751   \n",
       "\n",
       "   POPESTIMATE2015  POPESTIMATE2016  POPESTIMATE2017  POPESTIMATE2018  \\\n",
       "0            37698            37629            37526            36370   \n",
       "1            37882            37732            37904            37641   \n",
       "2            37123            38048            37975            38172   \n",
       "3            37896            37266            38170            38197   \n",
       "4            38625            37954            37322            38312   \n",
       "\n",
       "   POPESTIMATE2019  Race Group  Race Category  \n",
       "0            35594       White          White  \n",
       "1            36679       White          White  \n",
       "2            37904       White          White  \n",
       "3            38510       White          White  \n",
       "4            38476       White          White  \n",
       "\n",
       "[5 rows x 23 columns]"
      ]
     },
     "execution_count": 8,
     "metadata": {},
     "output_type": "execute_result"
    }
   ],
   "source": [
    "def race_cat(group, origin):\n",
    "    if origin == 2:\n",
    "        cat = 'Hispanic'\n",
    "    else:\n",
    "        if group == 'White':\n",
    "            cat = 'White'\n",
    "        elif group == 'African American':\n",
    "            cat = 'Black'\n",
    "        else:\n",
    "            cat = 'Other'\n",
    "    return cat\n",
    "\n",
    "f1 = lambda x: race_cat(x['Race Group'],x['ORIGIN'])\n",
    "census_data['Race Category'] = census_data.apply(f1, axis=1)\n",
    "census_data.head()"
   ]
  },
  {
   "cell_type": "markdown",
   "metadata": {},
   "source": [
    "Remove combined origin and sex data to allow data aggregation calculations."
   ]
  },
  {
   "cell_type": "code",
   "execution_count": 9,
   "metadata": {},
   "outputs": [
    {
     "data": {
      "text/plain": [
       "308745538"
      ]
     },
     "execution_count": 9,
     "metadata": {},
     "output_type": "execute_result"
    }
   ],
   "source": [
    "census_data = census_data[(census_data['SEX']!=0)&(census_data['ORIGIN']!=0)].copy()\n",
    "total_pop = census_data['CENSUS2010POP'].sum()\n",
    "total_pop                                           "
   ]
  },
  {
   "cell_type": "markdown",
   "metadata": {},
   "source": [
    "Combined: Sex = 0, Male: Sex = 1, Female: Sex = 2\n",
    "from: https://www2.census.gov/programs-surveys/popest/technical-documentation/file-layouts/2010-2019/sc-est2019-alldata6.pdf"
   ]
  },
  {
   "cell_type": "code",
   "execution_count": 10,
   "metadata": {},
   "outputs": [
    {
     "data": {
      "text/plain": [
       "(151781326, 0.49160654104740453)"
      ]
     },
     "execution_count": 10,
     "metadata": {},
     "output_type": "execute_result"
    }
   ],
   "source": [
    "male = census_data[census_data['SEX']==1]\n",
    "male_pop = male['CENSUS2010POP'].sum()\n",
    "male_pop, male_pop/total_pop"
   ]
  },
  {
   "cell_type": "code",
   "execution_count": 11,
   "metadata": {},
   "outputs": [
    {
     "data": {
      "text/plain": [
       "(156964212, 0.5083934589525955)"
      ]
     },
     "execution_count": 11,
     "metadata": {},
     "output_type": "execute_result"
    }
   ],
   "source": [
    "female = census_data[census_data['SEX']==2]\n",
    "female_pop = female['CENSUS2010POP'].sum()\n",
    "female_pop, female_pop/total_pop"
   ]
  },
  {
   "cell_type": "code",
   "execution_count": 177,
   "metadata": {},
   "outputs": [
    {
     "data": {
      "text/plain": [
       "NAME\n",
       "Alaska                  0.479567\n",
       "Wyoming                 0.490022\n",
       "North Dakota            0.494694\n",
       "Nevada                  0.495060\n",
       "Utah                    0.497694\n",
       "Montana                 0.498020\n",
       "Colorado                0.498794\n",
       "Idaho                   0.499022\n",
       "Hawaii                  0.499197\n",
       "South Dakota            0.499643\n",
       "Washington              0.501868\n",
       "California              0.502930\n",
       "Arizona                 0.503158\n",
       "Wisconsin               0.503709\n",
       "Minnesota               0.503739\n",
       "Nebraska                0.503764\n",
       "Kansas                  0.503908\n",
       "Texas                   0.503997\n",
       "Iowa                    0.504877\n",
       "Oklahoma                0.504984\n",
       "Oregon                  0.505099\n",
       "New Mexico              0.505909\n",
       "New Hampshire           0.506716\n",
       "West Virginia           0.506968\n",
       "Vermont                 0.507454\n",
       "Kentucky                0.508004\n",
       "Indiana                 0.508045\n",
       "Arkansas                0.509027\n",
       "Virginia                0.509315\n",
       "Michigan                0.509481\n",
       "Illinois                0.509590\n",
       "Missouri                0.510183\n",
       "Louisiana               0.510454\n",
       "Maine                   0.510633\n",
       "Florida                 0.511239\n",
       "Ohio                    0.511797\n",
       "Georgia                 0.511835\n",
       "Tennessee               0.512535\n",
       "Pennsylvania            0.512661\n",
       "North Carolina          0.512820\n",
       "New Jersey              0.513233\n",
       "Connecticut             0.513272\n",
       "South Carolina          0.513530\n",
       "Mississippi             0.514292\n",
       "Alabama                 0.514578\n",
       "Delaware                0.515623\n",
       "New York                0.516096\n",
       "Massachusetts           0.516370\n",
       "Maryland                0.516457\n",
       "Rhode Island            0.516990\n",
       "District of Columbia    0.527653\n",
       "Name: CENSUS2010POP, dtype: float64"
      ]
     },
     "execution_count": 177,
     "metadata": {},
     "output_type": "execute_result"
    }
   ],
   "source": [
    "(female.groupby('NAME')['CENSUS2010POP'].sum()/census_data.groupby('NAME')['CENSUS2010POP'].sum()).sort_values()"
   ]
  },
  {
   "cell_type": "code",
   "execution_count": 179,
   "metadata": {},
   "outputs": [
    {
     "data": {
      "text/plain": [
       "182790134"
      ]
     },
     "execution_count": 179,
     "metadata": {},
     "output_type": "execute_result"
    }
   ],
   "source": [
    "Plus_30 = census_data[census_data['AGE']>29]\n",
    "pop_plus_30 = Plus_30['CENSUS2010POP'].sum()\n",
    "pop_plus_30"
   ]
  },
  {
   "cell_type": "code",
   "execution_count": 206,
   "metadata": {},
   "outputs": [
    {
     "data": {
      "text/plain": [
       "0.5920413787486056"
      ]
     },
     "execution_count": 206,
     "metadata": {},
     "output_type": "execute_result"
    }
   ],
   "source": [
    "pop_plus_30/total_pop"
   ]
  },
  {
   "cell_type": "code",
   "execution_count": 193,
   "metadata": {},
   "outputs": [
    {
     "data": {
      "text/plain": [
       "0.478904217007686"
      ]
     },
     "execution_count": 193,
     "metadata": {},
     "output_type": "execute_result"
    }
   ],
   "source": [
    "Male_pop_30 = male[male['AGE']>29]\n",
    "Male_pop_30['CENSUS2010POP'].sum()/pop_plus_30"
   ]
  },
  {
   "cell_type": "code",
   "execution_count": 194,
   "metadata": {},
   "outputs": [
    {
     "data": {
      "text/plain": [
       "0.5210957829923141"
      ]
     },
     "execution_count": 194,
     "metadata": {},
     "output_type": "execute_result"
    }
   ],
   "source": [
    "Female_pop_30 = female[female['AGE']>29]\n",
    "Female_pop_30['CENSUS2010POP'].sum()/pop_plus_30"
   ]
  },
  {
   "cell_type": "code",
   "execution_count": 12,
   "metadata": {},
   "outputs": [
    {
     "data": {
      "text/plain": [
       "Race Category\n",
       "Black        37922522\n",
       "Hispanic     50477594\n",
       "Other        23026466\n",
       "White       197318956\n",
       "Name: CENSUS2010POP, dtype: int64"
      ]
     },
     "execution_count": 12,
     "metadata": {},
     "output_type": "execute_result"
    }
   ],
   "source": [
    "race_pop = census_data.groupby('Race Category')['CENSUS2010POP'].sum()\n",
    "race_pop"
   ]
  },
  {
   "cell_type": "code",
   "execution_count": 13,
   "metadata": {},
   "outputs": [
    {
     "data": {
      "text/plain": [
       "Race Category\n",
       "Black       0.122828\n",
       "Hispanic    0.163493\n",
       "Other       0.074581\n",
       "White       0.639099\n",
       "Name: CENSUS2010POP, dtype: float64"
      ]
     },
     "execution_count": 13,
     "metadata": {},
     "output_type": "execute_result"
    }
   ],
   "source": [
    "race_pop/total_pop"
   ]
  },
  {
   "cell_type": "code",
   "execution_count": 204,
   "metadata": {},
   "outputs": [
    {
     "data": {
      "text/plain": [
       "Race Category\n",
       "Black        20365909\n",
       "Hispanic     22882192\n",
       "Other        11985884\n",
       "White       127556149\n",
       "Name: CENSUS2010POP, dtype: int64"
      ]
     },
     "execution_count": 204,
     "metadata": {},
     "output_type": "execute_result"
    }
   ],
   "source": [
    "race_pop_plus30 = Plus_30.groupby('Race Category')['CENSUS2010POP'].sum()\n",
    "race_pop_plus30"
   ]
  },
  {
   "cell_type": "code",
   "execution_count": 205,
   "metadata": {},
   "outputs": [
    {
     "data": {
      "text/plain": [
       "Race Category\n",
       "Black       0.111417\n",
       "Hispanic    0.125183\n",
       "Other       0.065572\n",
       "White       0.697828\n",
       "Name: CENSUS2010POP, dtype: float64"
      ]
     },
     "execution_count": 205,
     "metadata": {},
     "output_type": "execute_result"
    }
   ],
   "source": [
    "race_pop_plus30/pop_plus_30"
   ]
  },
  {
   "cell_type": "code",
   "execution_count": 190,
   "metadata": {},
   "outputs": [
    {
     "data": {
      "text/plain": [
       "NAME\n",
       "West Virginia           0.021963\n",
       "Mississippi             0.022712\n",
       "Kentucky                0.028052\n",
       "Alabama                 0.029273\n",
       "South Carolina          0.030151\n",
       "Maine                   0.030448\n",
       "Tennessee               0.031098\n",
       "Vermont                 0.031377\n",
       "Indiana                 0.033145\n",
       "Louisiana               0.033770\n",
       "Iowa                    0.034040\n",
       "Ohio                    0.035916\n",
       "Arkansas                0.036451\n",
       "New Hampshire           0.036981\n",
       "Missouri                0.038588\n",
       "Idaho                   0.041108\n",
       "Nebraska                0.041233\n",
       "Florida                 0.041403\n",
       "Pennsylvania            0.042540\n",
       "Wyoming                 0.043529\n",
       "Wisconsin               0.045067\n",
       "Michigan                0.048523\n",
       "North Carolina          0.049602\n",
       "Georgia                 0.050125\n",
       "Rhode Island            0.051763\n",
       "Colorado                0.053858\n",
       "Texas                   0.053931\n",
       "Kansas                  0.054676\n",
       "Delaware                0.054903\n",
       "Utah                    0.055304\n",
       "Connecticut             0.055500\n",
       "District of Columbia    0.057392\n",
       "Illinois                0.060938\n",
       "Minnesota               0.070123\n",
       "Massachusetts           0.071090\n",
       "North Dakota            0.078571\n",
       "Maryland                0.078986\n",
       "Oregon                  0.079148\n",
       "Virginia                0.080052\n",
       "Arizona                 0.086183\n",
       "Montana                 0.088590\n",
       "New York                0.092430\n",
       "New Jersey              0.098137\n",
       "New Mexico              0.112519\n",
       "South Dakota            0.112942\n",
       "Nevada                  0.114015\n",
       "Washington              0.126178\n",
       "Oklahoma                0.151344\n",
       "California              0.161715\n",
       "Alaska                  0.270941\n",
       "Hawaii                  0.667961\n",
       "Name: CENSUS2010POP, dtype: float64"
      ]
     },
     "execution_count": 190,
     "metadata": {},
     "output_type": "execute_result"
    }
   ],
   "source": [
    "(census_data[census_data['Race Category']=='Other'].groupby('NAME')['CENSUS2010POP'].sum()/\\\n",
    " census_data.groupby('NAME')['CENSUS2010POP'].sum()).sort_values()"
   ]
  },
  {
   "cell_type": "code",
   "execution_count": 14,
   "metadata": {},
   "outputs": [
    {
     "data": {
      "text/plain": [
       "(0.5083934589525955, 0.49160654104740453)"
      ]
     },
     "execution_count": 14,
     "metadata": {},
     "output_type": "execute_result"
    }
   ],
   "source": [
    "p_female = female_pop/total_pop\n",
    "p_male = male_pop/total_pop\n",
    "p_female, p_male"
   ]
  },
  {
   "cell_type": "markdown",
   "metadata": {},
   "source": [
    "Run simple simulation, choosing 100 seats from the population at large, to understand the expected gender distribution, assuming process is unbiased selection from underlying population.  Note the US Senate (116th) includes 74 male members and 26 female members.  As shown above, females are about 51% of the population and males are 49%."
   ]
  },
  {
   "cell_type": "code",
   "execution_count": 113,
   "metadata": {},
   "outputs": [],
   "source": [
    "random.seed(0)\n",
    "\n",
    "simulations = 1000000\n",
    "seats = 100\n",
    "\n",
    "num_males = []\n",
    "num_females = []\n",
    "\n",
    "for i in range(simulations):\n",
    "    males = 0\n",
    "    females = 0\n",
    "    for j in range(seats):\n",
    "        vote = random.random()\n",
    "        if vote > p_female:\n",
    "            males += 1\n",
    "        else:\n",
    "            females +=1\n",
    "    num_males.append(males)\n",
    "    num_females.append(females)\n",
    "   "
   ]
  },
  {
   "cell_type": "code",
   "execution_count": 114,
   "metadata": {},
   "outputs": [
    {
     "data": {
      "image/png": "[encoded data removed]",
      "text/plain": [
       "<Figure size 432x288 with 1 Axes>"
      ]
     },
     "metadata": {
      "needs_background": "light"
     },
     "output_type": "display_data"
    }
   ],
   "source": [
    "plt.hist(num_females, bins = 22)\n",
    "plt.show()"
   ]
  },
  {
   "cell_type": "code",
   "execution_count": 115,
   "metadata": {},
   "outputs": [
    {
     "data": {
      "text/plain": [
       "(28, 26)"
      ]
     },
     "execution_count": 115,
     "metadata": {},
     "output_type": "execute_result"
    }
   ],
   "source": [
    "np.min(num_females), np.min(num_males)"
   ]
  },
  {
   "cell_type": "code",
   "execution_count": 116,
   "metadata": {},
   "outputs": [
    {
     "data": {
      "text/plain": [
       "(50.838462, 49.161538)"
      ]
     },
     "execution_count": 116,
     "metadata": {},
     "output_type": "execute_result"
    }
   ],
   "source": [
    "np.mean(num_females), np.mean(num_males)"
   ]
  },
  {
   "cell_type": "markdown",
   "metadata": {},
   "source": [
    "You must be 30 years or older to be elected Senator.  Likewise, Senators are selected on a state-by-state basis, not from the general population.  "
   ]
  },
  {
   "cell_type": "code",
   "execution_count": 198,
   "metadata": {},
   "outputs": [
    {
     "data": {
      "text/plain": [
       "{'Alabama': 0.5282649905427522,\n",
       " 'Alaska': 0.48196803998440974,\n",
       " 'Arizona': 0.5147235861947849,\n",
       " 'Arkansas': 0.5210084568492378,\n",
       " 'California': 0.5155952434852578,\n",
       " 'Colorado': 0.508456120920151,\n",
       " 'Connecticut': 0.5283082717962277,\n",
       " 'Delaware': 0.5292470859598168,\n",
       " 'District of Columbia': 0.5296040018126678,\n",
       " 'Florida': 0.5237187335205615,\n",
       " 'Georgia': 0.5261589093245346,\n",
       " 'Hawaii': 0.5120773005143153,\n",
       " 'Idaho': 0.5072376384554538,\n",
       " 'Illinois': 0.5227844126733479,\n",
       " 'Indiana': 0.5200172689969477,\n",
       " 'Iowa': 0.5168732076453226,\n",
       " 'Kansas': 0.516500359399282,\n",
       " 'Kentucky': 0.5198993544059568,\n",
       " 'Louisiana': 0.5230129517953327,\n",
       " 'Maine': 0.5218900095367454,\n",
       " 'Maryland': 0.5320842267874847,\n",
       " 'Massachusetts': 0.5296761798152443,\n",
       " 'Michigan': 0.5216855474305986,\n",
       " 'Minnesota': 0.5128004689005167,\n",
       " 'Mississippi': 0.5292617632007007,\n",
       " 'Missouri': 0.5225481015338053,\n",
       " 'Montana': 0.5068553394891933,\n",
       " 'Nebraska': 0.5149902843819664,\n",
       " 'Nevada': 0.500099366694548,\n",
       " 'New Hampshire': 0.5163679275294988,\n",
       " 'New Jersey': 0.5287278039580764,\n",
       " 'New Mexico': 0.517743403853703,\n",
       " 'New York': 0.5311245265935292,\n",
       " 'North Carolina': 0.5273529700288,\n",
       " 'North Dakota': 0.5063682084344969,\n",
       " 'Ohio': 0.5244640816803174,\n",
       " 'Oklahoma': 0.5173664980351873,\n",
       " 'Oregon': 0.5146453578034954,\n",
       " 'Pennsylvania': 0.5258051157472257,\n",
       " 'Rhode Island': 0.5321283734908835,\n",
       " 'South Carolina': 0.5275852575208922,\n",
       " 'South Dakota': 0.510154467670587,\n",
       " 'Tennessee': 0.5250065537444947,\n",
       " 'Texas': 0.5162713230495558,\n",
       " 'Utah': 0.5062831019679991,\n",
       " 'Vermont': 0.518902355916546,\n",
       " 'Virginia': 0.522226540325202,\n",
       " 'Washington': 0.5116851723325861,\n",
       " 'West Virginia': 0.5173469636816753,\n",
       " 'Wisconsin': 0.5132822381097355,\n",
       " 'Wyoming': 0.496691566899331}"
      ]
     },
     "execution_count": 198,
     "metadata": {},
     "output_type": "execute_result"
    }
   ],
   "source": [
    "P_female_dict = (Female_pop_30.groupby('NAME')['CENSUS2010POP'].sum()/Plus_30.groupby('NAME')['CENSUS2010POP'].sum()).to_dict()\n",
    "P_female_dict"
   ]
  },
  {
   "cell_type": "code",
   "execution_count": 199,
   "metadata": {},
   "outputs": [],
   "source": [
    "del P_female_dict['District of Columbia']\n",
    "P_female_senate_dict = (female_census_pop/state_census_pop).to_dict()"
   ]
  },
  {
   "cell_type": "markdown",
   "metadata": {},
   "source": [
    "Re-perform simulation on a state-by-state basis, to account for any differences in outcome due to sex distribution within individual states."
   ]
  },
  {
   "cell_type": "code",
   "execution_count": 201,
   "metadata": {},
   "outputs": [],
   "source": [
    "simulations = 1000000\n",
    "\n",
    "num_males = np.zeros(simulations)\n",
    "num_females = np.zeros(simulations)\n",
    "\n",
    "for i in range(simulations):\n",
    "    males = 0\n",
    "    females = 0\n",
    "    for j in P_female_dict.keys():\n",
    "        for k in range(2):\n",
    "            vote = random.random()\n",
    "            if vote > P_female_dict[j]:\n",
    "                males += 1\n",
    "            else:\n",
    "                females +=1\n",
    "    num_males[i] = males\n",
    "    num_females[i] = females"
   ]
  },
  {
   "cell_type": "code",
   "execution_count": 202,
   "metadata": {},
   "outputs": [
    {
     "data": {
      "image/png": "[encoded data removed]",
      "text/plain": [
       "<Figure size 432x288 with 1 Axes>"
      ]
     },
     "metadata": {
      "needs_background": "light"
     },
     "output_type": "display_data"
    }
   ],
   "source": [
    "plt.hist(num_females, bins = 22)\n",
    "plt.show()"
   ]
  },
  {
   "cell_type": "code",
   "execution_count": 203,
   "metadata": {},
   "outputs": [
    {
     "data": {
      "text/plain": [
       "(29.0, 24.0)"
      ]
     },
     "execution_count": 203,
     "metadata": {},
     "output_type": "execute_result"
    }
   ],
   "source": [
    "np.min(num_females), np.min(num_males)"
   ]
  },
  {
   "cell_type": "markdown",
   "metadata": {},
   "source": [
    "Actual number of females currently in the Senate is 26."
   ]
  },
  {
   "cell_type": "code",
   "execution_count": 221,
   "metadata": {},
   "outputs": [
    {
     "data": {
      "text/plain": [
       "(76.0, 71.0)"
      ]
     },
     "execution_count": 221,
     "metadata": {},
     "output_type": "execute_result"
    }
   ],
   "source": [
    "np.max(num_females), np.max(num_males)"
   ]
  },
  {
   "cell_type": "code",
   "execution_count": 207,
   "metadata": {},
   "outputs": [
    {
     "data": {
      "text/plain": [
       "(51.836255, 48.163745)"
      ]
     },
     "execution_count": 207,
     "metadata": {},
     "output_type": "execute_result"
    }
   ],
   "source": [
    "M_med = np.mean(num_males)\n",
    "F_med = np.mean(num_females)\n",
    "F_med, M_med"
   ]
  },
  {
   "cell_type": "code",
   "execution_count": 219,
   "metadata": {},
   "outputs": [
    {
     "name": "stdout",
     "output_type": "stream",
     "text": [
      "99% confidence interval for female seats: 38.96889478831473, 64.70361521168527\n"
     ]
    }
   ],
   "source": [
    "F_std = np.std(num_females)\n",
    "print('99% confidence interval for female seats: ' + str((F_med-(2.576*F_std))) +', ' +str((F_med+(2.576*F_std))))"
   ]
  },
  {
   "cell_type": "code",
   "execution_count": 220,
   "metadata": {},
   "outputs": [
    {
     "name": "stdout",
     "output_type": "stream",
     "text": [
      "99% confidence interval for male seats: 35.296384788314725, 61.03110521168527\n"
     ]
    }
   ],
   "source": [
    "M_std = np.std(num_males)\n",
    "print('99% confidence interval for male seats: ' + str((M_med-(2.576*M_std))) +', ' +str((M_med+(2.576*M_std))))"
   ]
  },
  {
   "cell_type": "markdown",
   "metadata": {},
   "source": [
    "0 cases out of 1 million would randomly result in less than 29 female Senators, if the selection of Senators is unbiased.  P-value is 0; according to this model it is impossible for an unbiased process to result in only 26 female senators."
   ]
  },
  {
   "cell_type": "markdown",
   "metadata": {},
   "source": [
    "Compute 99% confidence intervals for number of male and female Senate members"
   ]
  },
  {
   "cell_type": "markdown",
   "metadata": {},
   "source": [
    "Now consider both race and sex together."
   ]
  },
  {
   "cell_type": "code",
   "execution_count": 27,
   "metadata": {},
   "outputs": [
    {
     "data": {
      "text/plain": [
       "['White', 'Black', 'Other', 'Hispanic']"
      ]
     },
     "execution_count": 27,
     "metadata": {},
     "output_type": "execute_result"
    }
   ],
   "source": [
    "groups = census_data['Race Category'].unique().tolist()\n",
    "groups"
   ]
  },
  {
   "cell_type": "code",
   "execution_count": 223,
   "metadata": {},
   "outputs": [
    {
     "data": {
      "text/plain": [
       "NAME\n",
       "Alabama                  2857068\n",
       "Alaska                    392553\n",
       "Arizona                  3689794\n",
       "Arkansas                 1728185\n",
       "California              21291556\n",
       "Colorado                 2943430\n",
       "Connecticut              2216278\n",
       "Delaware                  543661\n",
       "District of Columbia      344244\n",
       "Florida                 11880335\n",
       "Georgia                  5552009\n",
       "Hawaii                    828869\n",
       "Idaho                     877358\n",
       "Illinois                 7544873\n",
       "Indiana                  3805664\n",
       "Iowa                     1814652\n",
       "Kansas                   1640237\n",
       "Kentucky                 2617899\n",
       "Louisiana                2607901\n",
       "Maine                     865075\n",
       "Maryland                 3469680\n",
       "Massachusetts            4009293\n",
       "Michigan                 5976100\n",
       "Minnesota                3144377\n",
       "Mississippi              1707826\n",
       "Missouri                 3570988\n",
       "Montana                   607118\n",
       "Nebraska                 1055517\n",
       "Nevada                   1590070\n",
       "New Hampshire             833001\n",
       "New Jersey               5406313\n",
       "New Mexico               1197290\n",
       "New York                11689479\n",
       "North Carolina           5688194\n",
       "North Dakota              392104\n",
       "Ohio                     6987632\n",
       "Oklahoma                 2174762\n",
       "Oregon                   2340810\n",
       "Pennsylvania             7867316\n",
       "Rhode Island              642843\n",
       "South Carolina           2764067\n",
       "South Dakota              474274\n",
       "Tennessee                3826057\n",
       "Texas                   13853729\n",
       "Utah                     1345275\n",
       "Vermont                   396194\n",
       "Virginia                 4780906\n",
       "Washington               4012735\n",
       "West Virginia            1188133\n",
       "Wisconsin                3425891\n",
       "Wyoming                   330519\n",
       "Name: CENSUS2010POP, dtype: int64"
      ]
     },
     "execution_count": 223,
     "metadata": {},
     "output_type": "execute_result"
    }
   ],
   "source": [
    "state_pops = Plus_30.groupby('NAME')['CENSUS2010POP'].sum()\n",
    "state_pops"
   ]
  },
  {
   "cell_type": "code",
   "execution_count": 226,
   "metadata": {},
   "outputs": [
    {
     "data": {
      "text/html": [
       "<div>\n",
       "<style scoped>\n",
       "    .dataframe tbody tr th:only-of-type {\n",
       "        vertical-align: middle;\n",
       "    }\n",
       "\n",
       "    .dataframe tbody tr th {\n",
       "        vertical-align: top;\n",
       "    }\n",
       "\n",
       "    .dataframe thead th {\n",
       "        text-align: right;\n",
       "    }\n",
       "</style>\n",
       "<table border=\"1\" class=\"dataframe\">\n",
       "  <thead>\n",
       "    <tr style=\"text-align: right;\">\n",
       "      <th></th>\n",
       "      <th>Female_White</th>\n",
       "      <th>Female_Black</th>\n",
       "      <th>Female_Other</th>\n",
       "      <th>Female_Hispanic</th>\n",
       "      <th>Male_White</th>\n",
       "      <th>Male_Black</th>\n",
       "      <th>Male_Other</th>\n",
       "      <th>Male_Hispanic</th>\n",
       "    </tr>\n",
       "    <tr>\n",
       "      <th>NAME</th>\n",
       "      <th></th>\n",
       "      <th></th>\n",
       "      <th></th>\n",
       "      <th></th>\n",
       "      <th></th>\n",
       "      <th></th>\n",
       "      <th></th>\n",
       "      <th></th>\n",
       "    </tr>\n",
       "  </thead>\n",
       "  <tbody>\n",
       "    <tr>\n",
       "      <td>Alabama</td>\n",
       "      <td>0.374638</td>\n",
       "      <td>0.130291</td>\n",
       "      <td>0.012815</td>\n",
       "      <td>0.010522</td>\n",
       "      <td>0.343714</td>\n",
       "      <td>0.103199</td>\n",
       "      <td>0.011043</td>\n",
       "      <td>0.013780</td>\n",
       "    </tr>\n",
       "    <tr>\n",
       "      <td>Alaska</td>\n",
       "      <td>0.335167</td>\n",
       "      <td>0.012572</td>\n",
       "      <td>0.114527</td>\n",
       "      <td>0.019702</td>\n",
       "      <td>0.376805</td>\n",
       "      <td>0.016247</td>\n",
       "      <td>0.104872</td>\n",
       "      <td>0.020107</td>\n",
       "    </tr>\n",
       "    <tr>\n",
       "      <td>Arizona</td>\n",
       "      <td>0.348074</td>\n",
       "      <td>0.016118</td>\n",
       "      <td>0.038590</td>\n",
       "      <td>0.111942</td>\n",
       "      <td>0.327677</td>\n",
       "      <td>0.017590</td>\n",
       "      <td>0.032765</td>\n",
       "      <td>0.107244</td>\n",
       "    </tr>\n",
       "    <tr>\n",
       "      <td>Arkansas</td>\n",
       "      <td>0.415110</td>\n",
       "      <td>0.072248</td>\n",
       "      <td>0.014942</td>\n",
       "      <td>0.018709</td>\n",
       "      <td>0.383924</td>\n",
       "      <td>0.060082</td>\n",
       "      <td>0.013148</td>\n",
       "      <td>0.021838</td>\n",
       "    </tr>\n",
       "    <tr>\n",
       "      <td>California</td>\n",
       "      <td>0.245048</td>\n",
       "      <td>0.030536</td>\n",
       "      <td>0.089256</td>\n",
       "      <td>0.150756</td>\n",
       "      <td>0.234470</td>\n",
       "      <td>0.028309</td>\n",
       "      <td>0.075110</td>\n",
       "      <td>0.146516</td>\n",
       "    </tr>\n",
       "    <tr>\n",
       "      <td>Colorado</td>\n",
       "      <td>0.390568</td>\n",
       "      <td>0.016497</td>\n",
       "      <td>0.024121</td>\n",
       "      <td>0.077270</td>\n",
       "      <td>0.374384</td>\n",
       "      <td>0.018781</td>\n",
       "      <td>0.020208</td>\n",
       "      <td>0.078171</td>\n",
       "    </tr>\n",
       "    <tr>\n",
       "      <td>Connecticut</td>\n",
       "      <td>0.408405</td>\n",
       "      <td>0.045839</td>\n",
       "      <td>0.023107</td>\n",
       "      <td>0.050958</td>\n",
       "      <td>0.366038</td>\n",
       "      <td>0.037574</td>\n",
       "      <td>0.020787</td>\n",
       "      <td>0.047292</td>\n",
       "    </tr>\n",
       "    <tr>\n",
       "      <td>Delaware</td>\n",
       "      <td>0.377730</td>\n",
       "      <td>0.102908</td>\n",
       "      <td>0.022628</td>\n",
       "      <td>0.025981</td>\n",
       "      <td>0.339931</td>\n",
       "      <td>0.083526</td>\n",
       "      <td>0.019950</td>\n",
       "      <td>0.027346</td>\n",
       "    </tr>\n",
       "    <tr>\n",
       "      <td>District of Columbia</td>\n",
       "      <td>0.164991</td>\n",
       "      <td>0.296490</td>\n",
       "      <td>0.029447</td>\n",
       "      <td>0.038676</td>\n",
       "      <td>0.178806</td>\n",
       "      <td>0.228617</td>\n",
       "      <td>0.021833</td>\n",
       "      <td>0.041139</td>\n",
       "    </tr>\n",
       "    <tr>\n",
       "      <td>Florida</td>\n",
       "      <td>0.334208</td>\n",
       "      <td>0.067251</td>\n",
       "      <td>0.018799</td>\n",
       "      <td>0.103461</td>\n",
       "      <td>0.309574</td>\n",
       "      <td>0.057346</td>\n",
       "      <td>0.015511</td>\n",
       "      <td>0.093850</td>\n",
       "    </tr>\n",
       "    <tr>\n",
       "      <td>Georgia</td>\n",
       "      <td>0.320576</td>\n",
       "      <td>0.154221</td>\n",
       "      <td>0.023012</td>\n",
       "      <td>0.028350</td>\n",
       "      <td>0.297643</td>\n",
       "      <td>0.122859</td>\n",
       "      <td>0.020077</td>\n",
       "      <td>0.033262</td>\n",
       "    </tr>\n",
       "    <tr>\n",
       "      <td>Hawaii</td>\n",
       "      <td>0.120042</td>\n",
       "      <td>0.004283</td>\n",
       "      <td>0.357303</td>\n",
       "      <td>0.030450</td>\n",
       "      <td>0.138250</td>\n",
       "      <td>0.008176</td>\n",
       "      <td>0.311785</td>\n",
       "      <td>0.029712</td>\n",
       "    </tr>\n",
       "    <tr>\n",
       "      <td>Idaho</td>\n",
       "      <td>0.452176</td>\n",
       "      <td>0.001426</td>\n",
       "      <td>0.018188</td>\n",
       "      <td>0.035448</td>\n",
       "      <td>0.435316</td>\n",
       "      <td>0.002587</td>\n",
       "      <td>0.015775</td>\n",
       "      <td>0.039084</td>\n",
       "    </tr>\n",
       "    <tr>\n",
       "      <td>Illinois</td>\n",
       "      <td>0.363717</td>\n",
       "      <td>0.073282</td>\n",
       "      <td>0.028640</td>\n",
       "      <td>0.057146</td>\n",
       "      <td>0.333742</td>\n",
       "      <td>0.057875</td>\n",
       "      <td>0.025340</td>\n",
       "      <td>0.060258</td>\n",
       "    </tr>\n",
       "    <tr>\n",
       "      <td>Indiana</td>\n",
       "      <td>0.446385</td>\n",
       "      <td>0.042620</td>\n",
       "      <td>0.012087</td>\n",
       "      <td>0.018926</td>\n",
       "      <td>0.411827</td>\n",
       "      <td>0.036218</td>\n",
       "      <td>0.010586</td>\n",
       "      <td>0.021352</td>\n",
       "    </tr>\n",
       "    <tr>\n",
       "      <td>Iowa</td>\n",
       "      <td>0.481641</td>\n",
       "      <td>0.009780</td>\n",
       "      <td>0.011355</td>\n",
       "      <td>0.014097</td>\n",
       "      <td>0.445628</td>\n",
       "      <td>0.011063</td>\n",
       "      <td>0.010346</td>\n",
       "      <td>0.016090</td>\n",
       "    </tr>\n",
       "    <tr>\n",
       "      <td>Kansas</td>\n",
       "      <td>0.436075</td>\n",
       "      <td>0.025535</td>\n",
       "      <td>0.021392</td>\n",
       "      <td>0.033498</td>\n",
       "      <td>0.402849</td>\n",
       "      <td>0.025148</td>\n",
       "      <td>0.018915</td>\n",
       "      <td>0.036588</td>\n",
       "    </tr>\n",
       "    <tr>\n",
       "      <td>Kentucky</td>\n",
       "      <td>0.466077</td>\n",
       "      <td>0.035344</td>\n",
       "      <td>0.010204</td>\n",
       "      <td>0.008274</td>\n",
       "      <td>0.427642</td>\n",
       "      <td>0.032279</td>\n",
       "      <td>0.009001</td>\n",
       "      <td>0.011178</td>\n",
       "    </tr>\n",
       "    <tr>\n",
       "      <td>Louisiana</td>\n",
       "      <td>0.338203</td>\n",
       "      <td>0.154505</td>\n",
       "      <td>0.014537</td>\n",
       "      <td>0.015769</td>\n",
       "      <td>0.315628</td>\n",
       "      <td>0.128722</td>\n",
       "      <td>0.013288</td>\n",
       "      <td>0.019349</td>\n",
       "    </tr>\n",
       "    <tr>\n",
       "      <td>Maine</td>\n",
       "      <td>0.503495</td>\n",
       "      <td>0.002670</td>\n",
       "      <td>0.011659</td>\n",
       "      <td>0.004066</td>\n",
       "      <td>0.460353</td>\n",
       "      <td>0.003970</td>\n",
       "      <td>0.009937</td>\n",
       "      <td>0.003851</td>\n",
       "    </tr>\n",
       "    <tr>\n",
       "      <td>Maryland</td>\n",
       "      <td>0.311530</td>\n",
       "      <td>0.153069</td>\n",
       "      <td>0.037718</td>\n",
       "      <td>0.029767</td>\n",
       "      <td>0.284137</td>\n",
       "      <td>0.120334</td>\n",
       "      <td>0.031811</td>\n",
       "      <td>0.031634</td>\n",
       "    </tr>\n",
       "    <tr>\n",
       "      <td>Massachusetts</td>\n",
       "      <td>0.433601</td>\n",
       "      <td>0.029634</td>\n",
       "      <td>0.030224</td>\n",
       "      <td>0.036218</td>\n",
       "      <td>0.385692</td>\n",
       "      <td>0.025583</td>\n",
       "      <td>0.027157</td>\n",
       "      <td>0.031892</td>\n",
       "    </tr>\n",
       "    <tr>\n",
       "      <td>Michigan</td>\n",
       "      <td>0.418922</td>\n",
       "      <td>0.068920</td>\n",
       "      <td>0.019147</td>\n",
       "      <td>0.014696</td>\n",
       "      <td>0.389731</td>\n",
       "      <td>0.056607</td>\n",
       "      <td>0.017036</td>\n",
       "      <td>0.014941</td>\n",
       "    </tr>\n",
       "    <tr>\n",
       "      <td>Minnesota</td>\n",
       "      <td>0.455841</td>\n",
       "      <td>0.018345</td>\n",
       "      <td>0.024601</td>\n",
       "      <td>0.014014</td>\n",
       "      <td>0.429914</td>\n",
       "      <td>0.019169</td>\n",
       "      <td>0.022158</td>\n",
       "      <td>0.015959</td>\n",
       "    </tr>\n",
       "    <tr>\n",
       "      <td>Mississippi</td>\n",
       "      <td>0.331088</td>\n",
       "      <td>0.180661</td>\n",
       "      <td>0.009657</td>\n",
       "      <td>0.007855</td>\n",
       "      <td>0.305148</td>\n",
       "      <td>0.145570</td>\n",
       "      <td>0.008083</td>\n",
       "      <td>0.011938</td>\n",
       "    </tr>\n",
       "    <tr>\n",
       "      <td>Missouri</td>\n",
       "      <td>0.440530</td>\n",
       "      <td>0.055391</td>\n",
       "      <td>0.015223</td>\n",
       "      <td>0.011404</td>\n",
       "      <td>0.406586</td>\n",
       "      <td>0.045229</td>\n",
       "      <td>0.013412</td>\n",
       "      <td>0.012224</td>\n",
       "    </tr>\n",
       "    <tr>\n",
       "      <td>Montana</td>\n",
       "      <td>0.462783</td>\n",
       "      <td>0.000759</td>\n",
       "      <td>0.033824</td>\n",
       "      <td>0.009489</td>\n",
       "      <td>0.452403</td>\n",
       "      <td>0.001756</td>\n",
       "      <td>0.029800</td>\n",
       "      <td>0.009186</td>\n",
       "    </tr>\n",
       "    <tr>\n",
       "      <td>Nebraska</td>\n",
       "      <td>0.453971</td>\n",
       "      <td>0.018360</td>\n",
       "      <td>0.015045</td>\n",
       "      <td>0.027615</td>\n",
       "      <td>0.422333</td>\n",
       "      <td>0.018372</td>\n",
       "      <td>0.012874</td>\n",
       "      <td>0.031430</td>\n",
       "    </tr>\n",
       "    <tr>\n",
       "      <td>Nevada</td>\n",
       "      <td>0.307909</td>\n",
       "      <td>0.036105</td>\n",
       "      <td>0.060419</td>\n",
       "      <td>0.095666</td>\n",
       "      <td>0.317750</td>\n",
       "      <td>0.036103</td>\n",
       "      <td>0.047219</td>\n",
       "      <td>0.098829</td>\n",
       "    </tr>\n",
       "    <tr>\n",
       "      <td>New Hampshire</td>\n",
       "      <td>0.489033</td>\n",
       "      <td>0.003262</td>\n",
       "      <td>0.014687</td>\n",
       "      <td>0.009387</td>\n",
       "      <td>0.456867</td>\n",
       "      <td>0.004646</td>\n",
       "      <td>0.013339</td>\n",
       "      <td>0.008780</td>\n",
       "    </tr>\n",
       "    <tr>\n",
       "      <td>New Jersey</td>\n",
       "      <td>0.341591</td>\n",
       "      <td>0.066223</td>\n",
       "      <td>0.047231</td>\n",
       "      <td>0.073683</td>\n",
       "      <td>0.305752</td>\n",
       "      <td>0.052634</td>\n",
       "      <td>0.042920</td>\n",
       "      <td>0.069966</td>\n",
       "    </tr>\n",
       "    <tr>\n",
       "      <td>New Mexico</td>\n",
       "      <td>0.254359</td>\n",
       "      <td>0.007357</td>\n",
       "      <td>0.051552</td>\n",
       "      <td>0.204475</td>\n",
       "      <td>0.237368</td>\n",
       "      <td>0.009596</td>\n",
       "      <td>0.043451</td>\n",
       "      <td>0.191842</td>\n",
       "    </tr>\n",
       "    <tr>\n",
       "      <td>New York</td>\n",
       "      <td>0.330216</td>\n",
       "      <td>0.077504</td>\n",
       "      <td>0.045338</td>\n",
       "      <td>0.078066</td>\n",
       "      <td>0.300121</td>\n",
       "      <td>0.059305</td>\n",
       "      <td>0.040002</td>\n",
       "      <td>0.069447</td>\n",
       "    </tr>\n",
       "    <tr>\n",
       "      <td>North Carolina</td>\n",
       "      <td>0.372084</td>\n",
       "      <td>0.109609</td>\n",
       "      <td>0.020712</td>\n",
       "      <td>0.024948</td>\n",
       "      <td>0.338099</td>\n",
       "      <td>0.087536</td>\n",
       "      <td>0.017756</td>\n",
       "      <td>0.029256</td>\n",
       "    </tr>\n",
       "    <tr>\n",
       "      <td>North Dakota</td>\n",
       "      <td>0.470209</td>\n",
       "      <td>0.002385</td>\n",
       "      <td>0.028607</td>\n",
       "      <td>0.005167</td>\n",
       "      <td>0.458264</td>\n",
       "      <td>0.004101</td>\n",
       "      <td>0.025200</td>\n",
       "      <td>0.006067</td>\n",
       "    </tr>\n",
       "    <tr>\n",
       "      <td>Ohio</td>\n",
       "      <td>0.443133</td>\n",
       "      <td>0.058009</td>\n",
       "      <td>0.013325</td>\n",
       "      <td>0.009998</td>\n",
       "      <td>0.404756</td>\n",
       "      <td>0.048510</td>\n",
       "      <td>0.011816</td>\n",
       "      <td>0.010453</td>\n",
       "    </tr>\n",
       "    <tr>\n",
       "      <td>Oklahoma</td>\n",
       "      <td>0.394192</td>\n",
       "      <td>0.033325</td>\n",
       "      <td>0.063700</td>\n",
       "      <td>0.026149</td>\n",
       "      <td>0.364311</td>\n",
       "      <td>0.031144</td>\n",
       "      <td>0.056469</td>\n",
       "      <td>0.030710</td>\n",
       "    </tr>\n",
       "    <tr>\n",
       "      <td>Oregon</td>\n",
       "      <td>0.437818</td>\n",
       "      <td>0.006612</td>\n",
       "      <td>0.035021</td>\n",
       "      <td>0.035194</td>\n",
       "      <td>0.408311</td>\n",
       "      <td>0.008060</td>\n",
       "      <td>0.029563</td>\n",
       "      <td>0.039420</td>\n",
       "    </tr>\n",
       "    <tr>\n",
       "      <td>Pennsylvania</td>\n",
       "      <td>0.440400</td>\n",
       "      <td>0.049499</td>\n",
       "      <td>0.016779</td>\n",
       "      <td>0.019127</td>\n",
       "      <td>0.399050</td>\n",
       "      <td>0.041029</td>\n",
       "      <td>0.014948</td>\n",
       "      <td>0.019168</td>\n",
       "    </tr>\n",
       "    <tr>\n",
       "      <td>Rhode Island</td>\n",
       "      <td>0.444648</td>\n",
       "      <td>0.022729</td>\n",
       "      <td>0.019121</td>\n",
       "      <td>0.045630</td>\n",
       "      <td>0.389324</td>\n",
       "      <td>0.021560</td>\n",
       "      <td>0.016934</td>\n",
       "      <td>0.040053</td>\n",
       "    </tr>\n",
       "    <tr>\n",
       "      <td>South Carolina</td>\n",
       "      <td>0.360777</td>\n",
       "      <td>0.139743</td>\n",
       "      <td>0.012265</td>\n",
       "      <td>0.014800</td>\n",
       "      <td>0.331124</td>\n",
       "      <td>0.112080</td>\n",
       "      <td>0.010267</td>\n",
       "      <td>0.018943</td>\n",
       "    </tr>\n",
       "    <tr>\n",
       "      <td>South Dakota</td>\n",
       "      <td>0.460036</td>\n",
       "      <td>0.002707</td>\n",
       "      <td>0.040074</td>\n",
       "      <td>0.007338</td>\n",
       "      <td>0.439683</td>\n",
       "      <td>0.005518</td>\n",
       "      <td>0.035494</td>\n",
       "      <td>0.009151</td>\n",
       "    </tr>\n",
       "    <tr>\n",
       "      <td>Tennessee</td>\n",
       "      <td>0.419929</td>\n",
       "      <td>0.079489</td>\n",
       "      <td>0.012673</td>\n",
       "      <td>0.012915</td>\n",
       "      <td>0.383439</td>\n",
       "      <td>0.064449</td>\n",
       "      <td>0.011083</td>\n",
       "      <td>0.016023</td>\n",
       "    </tr>\n",
       "    <tr>\n",
       "      <td>Texas</td>\n",
       "      <td>0.273150</td>\n",
       "      <td>0.059654</td>\n",
       "      <td>0.026961</td>\n",
       "      <td>0.156507</td>\n",
       "      <td>0.257195</td>\n",
       "      <td>0.051542</td>\n",
       "      <td>0.024234</td>\n",
       "      <td>0.150758</td>\n",
       "    </tr>\n",
       "    <tr>\n",
       "      <td>Utah</td>\n",
       "      <td>0.429227</td>\n",
       "      <td>0.003032</td>\n",
       "      <td>0.024118</td>\n",
       "      <td>0.049906</td>\n",
       "      <td>0.415235</td>\n",
       "      <td>0.004922</td>\n",
       "      <td>0.021158</td>\n",
       "      <td>0.052403</td>\n",
       "    </tr>\n",
       "    <tr>\n",
       "      <td>Vermont</td>\n",
       "      <td>0.499023</td>\n",
       "      <td>0.002395</td>\n",
       "      <td>0.012577</td>\n",
       "      <td>0.004907</td>\n",
       "      <td>0.462523</td>\n",
       "      <td>0.003387</td>\n",
       "      <td>0.010429</td>\n",
       "      <td>0.004758</td>\n",
       "    </tr>\n",
       "    <tr>\n",
       "      <td>Virginia</td>\n",
       "      <td>0.359809</td>\n",
       "      <td>0.096825</td>\n",
       "      <td>0.036960</td>\n",
       "      <td>0.028632</td>\n",
       "      <td>0.334809</td>\n",
       "      <td>0.081834</td>\n",
       "      <td>0.031221</td>\n",
       "      <td>0.029909</td>\n",
       "    </tr>\n",
       "    <tr>\n",
       "      <td>Washington</td>\n",
       "      <td>0.404831</td>\n",
       "      <td>0.013877</td>\n",
       "      <td>0.058614</td>\n",
       "      <td>0.034364</td>\n",
       "      <td>0.385501</td>\n",
       "      <td>0.016911</td>\n",
       "      <td>0.048121</td>\n",
       "      <td>0.037782</td>\n",
       "    </tr>\n",
       "    <tr>\n",
       "      <td>West Virginia</td>\n",
       "      <td>0.491608</td>\n",
       "      <td>0.014127</td>\n",
       "      <td>0.007854</td>\n",
       "      <td>0.003757</td>\n",
       "      <td>0.455274</td>\n",
       "      <td>0.015905</td>\n",
       "      <td>0.007023</td>\n",
       "      <td>0.004452</td>\n",
       "    </tr>\n",
       "    <tr>\n",
       "      <td>Wisconsin</td>\n",
       "      <td>0.455202</td>\n",
       "      <td>0.025334</td>\n",
       "      <td>0.015178</td>\n",
       "      <td>0.017569</td>\n",
       "      <td>0.430412</td>\n",
       "      <td>0.022779</td>\n",
       "      <td>0.013859</td>\n",
       "      <td>0.019668</td>\n",
       "    </tr>\n",
       "    <tr>\n",
       "      <td>Wyoming</td>\n",
       "      <td>0.446522</td>\n",
       "      <td>0.002411</td>\n",
       "      <td>0.017306</td>\n",
       "      <td>0.030452</td>\n",
       "      <td>0.449905</td>\n",
       "      <td>0.003891</td>\n",
       "      <td>0.015364</td>\n",
       "      <td>0.034149</td>\n",
       "    </tr>\n",
       "  </tbody>\n",
       "</table>\n",
       "</div>"
      ],
      "text/plain": [
       "                      Female_White  Female_Black  Female_Other  \\\n",
       "NAME                                                             \n",
       "Alabama                   0.374638      0.130291      0.012815   \n",
       "Alaska                    0.335167      0.012572      0.114527   \n",
       "Arizona                   0.348074      0.016118      0.038590   \n",
       "Arkansas                  0.415110      0.072248      0.014942   \n",
       "California                0.245048      0.030536      0.089256   \n",
       "Colorado                  0.390568      0.016497      0.024121   \n",
       "Connecticut               0.408405      0.045839      0.023107   \n",
       "Delaware                  0.377730      0.102908      0.022628   \n",
       "District of Columbia      0.164991      0.296490      0.029447   \n",
       "Florida                   0.334208      0.067251      0.018799   \n",
       "Georgia                   0.320576      0.154221      0.023012   \n",
       "Hawaii                    0.120042      0.004283      0.357303   \n",
       "Idaho                     0.452176      0.001426      0.018188   \n",
       "Illinois                  0.363717      0.073282      0.028640   \n",
       "Indiana                   0.446385      0.042620      0.012087   \n",
       "Iowa                      0.481641      0.009780      0.011355   \n",
       "Kansas                    0.436075      0.025535      0.021392   \n",
       "Kentucky                  0.466077      0.035344      0.010204   \n",
       "Louisiana                 0.338203      0.154505      0.014537   \n",
       "Maine                     0.503495      0.002670      0.011659   \n",
       "Maryland                  0.311530      0.153069      0.037718   \n",
       "Massachusetts             0.433601      0.029634      0.030224   \n",
       "Michigan                  0.418922      0.068920      0.019147   \n",
       "Minnesota                 0.455841      0.018345      0.024601   \n",
       "Mississippi               0.331088      0.180661      0.009657   \n",
       "Missouri                  0.440530      0.055391      0.015223   \n",
       "Montana                   0.462783      0.000759      0.033824   \n",
       "Nebraska                  0.453971      0.018360      0.015045   \n",
       "Nevada                    0.307909      0.036105      0.060419   \n",
       "New Hampshire             0.489033      0.003262      0.014687   \n",
       "New Jersey                0.341591      0.066223      0.047231   \n",
       "New Mexico                0.254359      0.007357      0.051552   \n",
       "New York                  0.330216      0.077504      0.045338   \n",
       "North Carolina            0.372084      0.109609      0.020712   \n",
       "North Dakota              0.470209      0.002385      0.028607   \n",
       "Ohio                      0.443133      0.058009      0.013325   \n",
       "Oklahoma                  0.394192      0.033325      0.063700   \n",
       "Oregon                    0.437818      0.006612      0.035021   \n",
       "Pennsylvania              0.440400      0.049499      0.016779   \n",
       "Rhode Island              0.444648      0.022729      0.019121   \n",
       "South Carolina            0.360777      0.139743      0.012265   \n",
       "South Dakota              0.460036      0.002707      0.040074   \n",
       "Tennessee                 0.419929      0.079489      0.012673   \n",
       "Texas                     0.273150      0.059654      0.026961   \n",
       "Utah                      0.429227      0.003032      0.024118   \n",
       "Vermont                   0.499023      0.002395      0.012577   \n",
       "Virginia                  0.359809      0.096825      0.036960   \n",
       "Washington                0.404831      0.013877      0.058614   \n",
       "West Virginia             0.491608      0.014127      0.007854   \n",
       "Wisconsin                 0.455202      0.025334      0.015178   \n",
       "Wyoming                   0.446522      0.002411      0.017306   \n",
       "\n",
       "                      Female_Hispanic  Male_White  Male_Black  Male_Other  \\\n",
       "NAME                                                                        \n",
       "Alabama                      0.010522    0.343714    0.103199    0.011043   \n",
       "Alaska                       0.019702    0.376805    0.016247    0.104872   \n",
       "Arizona                      0.111942    0.327677    0.017590    0.032765   \n",
       "Arkansas                     0.018709    0.383924    0.060082    0.013148   \n",
       "California                   0.150756    0.234470    0.028309    0.075110   \n",
       "Colorado                     0.077270    0.374384    0.018781    0.020208   \n",
       "Connecticut                  0.050958    0.366038    0.037574    0.020787   \n",
       "Delaware                     0.025981    0.339931    0.083526    0.019950   \n",
       "District of Columbia         0.038676    0.178806    0.228617    0.021833   \n",
       "Florida                      0.103461    0.309574    0.057346    0.015511   \n",
       "Georgia                      0.028350    0.297643    0.122859    0.020077   \n",
       "Hawaii                       0.030450    0.138250    0.008176    0.311785   \n",
       "Idaho                        0.035448    0.435316    0.002587    0.015775   \n",
       "Illinois                     0.057146    0.333742    0.057875    0.025340   \n",
       "Indiana                      0.018926    0.411827    0.036218    0.010586   \n",
       "Iowa                         0.014097    0.445628    0.011063    0.010346   \n",
       "Kansas                       0.033498    0.402849    0.025148    0.018915   \n",
       "Kentucky                     0.008274    0.427642    0.032279    0.009001   \n",
       "Louisiana                    0.015769    0.315628    0.128722    0.013288   \n",
       "Maine                        0.004066    0.460353    0.003970    0.009937   \n",
       "Maryland                     0.029767    0.284137    0.120334    0.031811   \n",
       "Massachusetts                0.036218    0.385692    0.025583    0.027157   \n",
       "Michigan                     0.014696    0.389731    0.056607    0.017036   \n",
       "Minnesota                    0.014014    0.429914    0.019169    0.022158   \n",
       "Mississippi                  0.007855    0.305148    0.145570    0.008083   \n",
       "Missouri                     0.011404    0.406586    0.045229    0.013412   \n",
       "Montana                      0.009489    0.452403    0.001756    0.029800   \n",
       "Nebraska                     0.027615    0.422333    0.018372    0.012874   \n",
       "Nevada                       0.095666    0.317750    0.036103    0.047219   \n",
       "New Hampshire                0.009387    0.456867    0.004646    0.013339   \n",
       "New Jersey                   0.073683    0.305752    0.052634    0.042920   \n",
       "New Mexico                   0.204475    0.237368    0.009596    0.043451   \n",
       "New York                     0.078066    0.300121    0.059305    0.040002   \n",
       "North Carolina               0.024948    0.338099    0.087536    0.017756   \n",
       "North Dakota                 0.005167    0.458264    0.004101    0.025200   \n",
       "Ohio                         0.009998    0.404756    0.048510    0.011816   \n",
       "Oklahoma                     0.026149    0.364311    0.031144    0.056469   \n",
       "Oregon                       0.035194    0.408311    0.008060    0.029563   \n",
       "Pennsylvania                 0.019127    0.399050    0.041029    0.014948   \n",
       "Rhode Island                 0.045630    0.389324    0.021560    0.016934   \n",
       "South Carolina               0.014800    0.331124    0.112080    0.010267   \n",
       "South Dakota                 0.007338    0.439683    0.005518    0.035494   \n",
       "Tennessee                    0.012915    0.383439    0.064449    0.011083   \n",
       "Texas                        0.156507    0.257195    0.051542    0.024234   \n",
       "Utah                         0.049906    0.415235    0.004922    0.021158   \n",
       "Vermont                      0.004907    0.462523    0.003387    0.010429   \n",
       "Virginia                     0.028632    0.334809    0.081834    0.031221   \n",
       "Washington                   0.034364    0.385501    0.016911    0.048121   \n",
       "West Virginia                0.003757    0.455274    0.015905    0.007023   \n",
       "Wisconsin                    0.017569    0.430412    0.022779    0.013859   \n",
       "Wyoming                      0.030452    0.449905    0.003891    0.015364   \n",
       "\n",
       "                      Male_Hispanic  \n",
       "NAME                                 \n",
       "Alabama                    0.013780  \n",
       "Alaska                     0.020107  \n",
       "Arizona                    0.107244  \n",
       "Arkansas                   0.021838  \n",
       "California                 0.146516  \n",
       "Colorado                   0.078171  \n",
       "Connecticut                0.047292  \n",
       "Delaware                   0.027346  \n",
       "District of Columbia       0.041139  \n",
       "Florida                    0.093850  \n",
       "Georgia                    0.033262  \n",
       "Hawaii                     0.029712  \n",
       "Idaho                      0.039084  \n",
       "Illinois                   0.060258  \n",
       "Indiana                    0.021352  \n",
       "Iowa                       0.016090  \n",
       "Kansas                     0.036588  \n",
       "Kentucky                   0.011178  \n",
       "Louisiana                  0.019349  \n",
       "Maine                      0.003851  \n",
       "Maryland                   0.031634  \n",
       "Massachusetts              0.031892  \n",
       "Michigan                   0.014941  \n",
       "Minnesota                  0.015959  \n",
       "Mississippi                0.011938  \n",
       "Missouri                   0.012224  \n",
       "Montana                    0.009186  \n",
       "Nebraska                   0.031430  \n",
       "Nevada                     0.098829  \n",
       "New Hampshire              0.008780  \n",
       "New Jersey                 0.069966  \n",
       "New Mexico                 0.191842  \n",
       "New York                   0.069447  \n",
       "North Carolina             0.029256  \n",
       "North Dakota               0.006067  \n",
       "Ohio                       0.010453  \n",
       "Oklahoma                   0.030710  \n",
       "Oregon                     0.039420  \n",
       "Pennsylvania               0.019168  \n",
       "Rhode Island               0.040053  \n",
       "South Carolina             0.018943  \n",
       "South Dakota               0.009151  \n",
       "Tennessee                  0.016023  \n",
       "Texas                      0.150758  \n",
       "Utah                       0.052403  \n",
       "Vermont                    0.004758  \n",
       "Virginia                   0.029909  \n",
       "Washington                 0.037782  \n",
       "West Virginia              0.004452  \n",
       "Wisconsin                  0.019668  \n",
       "Wyoming                    0.034149  "
      ]
     },
     "execution_count": 226,
     "metadata": {},
     "output_type": "execute_result"
    }
   ],
   "source": [
    "case = Female_pop_30[Female_pop_30['Race Category'] == groups[0]]\n",
    "prob_series = case.groupby('NAME')['CENSUS2010POP'].sum()/state_pops\n",
    "prob_series = prob_series.rename(\"Female_White\")\n",
    "race_prob = prob_series.to_frame()\n",
    "\n",
    "for i in range(1,4):\n",
    "    case = Female_pop_30[Female_pop_30['Race Category'] == groups[i]]\n",
    "    prob_series = case.groupby('NAME')['CENSUS2010POP'].sum()/state_pops\n",
    "    name = 'Female_' + groups[i]\n",
    "    race_prob[name] = prob_series\n",
    "    \n",
    "for i in range(4):\n",
    "    case = Male_pop_30[Male_pop_30['Race Category'] == groups[i]]\n",
    "    prob_series = case.groupby('NAME')['CENSUS2010POP'].sum()/state_pops\n",
    "    name = 'Male_' + groups[i]\n",
    "    race_prob[name] = prob_series    \n",
    "    \n",
    "race_prob"
   ]
  },
  {
   "cell_type": "code",
   "execution_count": 230,
   "metadata": {},
   "outputs": [
    {
     "data": {
      "text/plain": [
       "50"
      ]
     },
     "execution_count": 230,
     "metadata": {},
     "output_type": "execute_result"
    }
   ],
   "source": [
    "states = race_prob.index.tolist()\n",
    "states.remove('District of Columbia')\n",
    "len(states)"
   ]
  },
  {
   "cell_type": "code",
   "execution_count": 246,
   "metadata": {},
   "outputs": [],
   "source": [
    "\n",
    "simulations = 200000\n",
    "\n",
    "outcomes = ['FW','FB','FO','FH','MW','MB','MO','MH']\n",
    "\n",
    "keys = race_prob.columns\n",
    "congress_results_dict = {}\n",
    "for i in keys:\n",
    "    congress_results_dict[i] = np.zeros(simulations)\n",
    "\n",
    "for i in range(simulations):\n",
    "    election = {'FW':0,'FB':0,'FO':0,'FH':0,'MW':0,'MB':0,'MO':0,'MH':0}\n",
    "    for j in states:\n",
    "        weights = race_prob.loc[j].values\n",
    "        for k in range(2):\n",
    "            result = random.choices(outcomes, weights=weights)\n",
    "            election[result[0]] +=1\n",
    "    for k in election.keys():\n",
    "        if k == 'FW':\n",
    "            congress_results_dict['Female_White'][i] = election[k]\n",
    "        if k == 'FB':\n",
    "            congress_results_dict['Female_Black'][i] = election[k]\n",
    "        if k == 'FO':\n",
    "            congress_results_dict['Female_Other'][i] = election[k]\n",
    "        if k == 'FH':\n",
    "            congress_results_dict['Female_Hispanic'][i] = election[k]            \n",
    "        if k == 'MW':\n",
    "            congress_results_dict['Male_White'][i] = election[k] \n",
    "        if k == 'MB':\n",
    "            congress_results_dict['Male_Black'][i] = election[k]   \n",
    "        if k == 'MO':\n",
    "            congress_results_dict['Male_Other'][i] = election[k]\n",
    "        if k == 'MH':\n",
    "            congress_results_dict['Male_Hispanic'][i] = election[k]  \n",
    "            \n"
   ]
  },
  {
   "cell_type": "code",
   "execution_count": 247,
   "metadata": {},
   "outputs": [
    {
     "name": "stdout",
     "output_type": "stream",
     "text": [
      "Female_White: 39.597665, 20.0, 61.0, (30.109369669334303, 49.0859603306657)\n",
      "Female_Black: 4.86317, 0.0, 17.0, (0.7542285284886621, 8.972111471511338)\n",
      "Female_Other: 3.468175, 0.0, 13.0, (0.021584707280106752, 6.914765292719894)\n",
      "Female_Hispanic: 3.91038, 0.0, 14.0, (0.2171458808690505, 7.603614119130949)\n",
      "Male_White: 37.04973, 17.0, 58.0, (27.66414420287751, 46.435315797122485)\n",
      "Male_Black: 4.138905, 0.0, 15.0, (0.3031442373369324, 7.974665762663069)\n",
      "Male_Other: 3.01786, 0.0, 12.0, (-0.22448656259454136, 6.260206562594542)\n",
      "Male_Hispanic: 3.954115, 0.0, 14.0, (0.21218313320674742, 7.696046866793252)\n"
     ]
    }
   ],
   "source": [
    "for key in congress_results_dict.keys():\n",
    "    sim_results = congress_results_dict[key]\n",
    "    ave = np.mean(sim_results)\n",
    "    lowest = np.min(sim_results)\n",
    "    high = np.max(sim_results)\n",
    "    dev = np.std(sim_results)\n",
    "    confidence = ((ave-(1.960*dev)), (ave+(1.960*dev)))\n",
    "    print(key + ': ' +str(ave) + ', ' +str(lowest)+', ' + str(high) + ', ' +str(confidence))"
   ]
  },
  {
   "cell_type": "code",
   "execution_count": 251,
   "metadata": {},
   "outputs": [
    {
     "data": {
      "text/plain": [
       "(76.647395,\n",
       " (66.39531800500615, 86.89947199499386),\n",
       " [91.0, 91.0, 91.0, 91.0, 91.0, 92.0, 92.0, 92.0, 92.0, 93.0])"
      ]
     },
     "execution_count": 251,
     "metadata": {},
     "output_type": "execute_result"
    }
   ],
   "source": [
    "total_white = []\n",
    "\n",
    "for i in range(simulations):\n",
    "    male_white = congress_results_dict['Male_White'][i]\n",
    "    female_white = congress_results_dict['Female_White'][i]\n",
    "    total_white.append(male_white + female_white)\n",
    "\n",
    "        \n",
    "total_white.sort()\n",
    "stdev = np.std(total_white)\n",
    "white_ave = np.mean(total_white)\n",
    "white_ave, ((white_ave - 2.576*stdev), (white_ave + 2.576*stdev)), total_white[-10:]"
   ]
  },
  {
   "cell_type": "code",
   "execution_count": 249,
   "metadata": {},
   "outputs": [
    {
     "data": {
      "text/plain": [
       "(76.647395,\n",
       " (68.8469016342438, 84.4478883657562),\n",
       " [91.0, 91.0, 91.0, 91.0, 91.0, 92.0, 92.0, 92.0, 92.0, 93.0])"
      ]
     },
     "execution_count": 249,
     "metadata": {},
     "output_type": "execute_result"
    }
   ],
   "source": [
    "white_ave = np.mean(total_white)\n",
    "white_ave, ((white_ave - 1.960*stdev), (white_ave + 1.960*stdev)), total_white[-10:]"
   ]
  },
  {
   "cell_type": "code",
   "execution_count": 255,
   "metadata": {},
   "outputs": [
    {
     "data": {
      "text/plain": [
       "(9.002075,\n",
       " (1.9659486433605045, 16.038201356639494),\n",
       " [0.0,\n",
       "  0.0,\n",
       "  0.0,\n",
       "  0.0,\n",
       "  0.0,\n",
       "  0.0,\n",
       "  0.0,\n",
       "  0.0,\n",
       "  0.0,\n",
       "  0.0,\n",
       "  0.0,\n",
       "  1.0,\n",
       "  1.0,\n",
       "  1.0,\n",
       "  1.0,\n",
       "  1.0,\n",
       "  1.0,\n",
       "  1.0,\n",
       "  1.0,\n",
       "  1.0])"
      ]
     },
     "execution_count": 255,
     "metadata": {},
     "output_type": "execute_result"
    }
   ],
   "source": [
    "total_black = []\n",
    "\n",
    "for i in range(simulations):\n",
    "    male_black = congress_results_dict['Male_Black'][i]\n",
    "    female_black = congress_results_dict['Female_Black'][i]\n",
    "    total_black.append(male_black + female_black)\n",
    "\n",
    "        \n",
    "total_black.sort()\n",
    "stdev = np.std(total_black)\n",
    "black_ave = np.mean(total_black)\n",
    "black_ave, ((black_ave - 2.576*stdev), (black_ave + 2.576*stdev)), total_black[:20]"
   ]
  },
  {
   "cell_type": "code",
   "execution_count": 256,
   "metadata": {},
   "outputs": [
    {
     "data": {
      "text/plain": [
       "(7.864495,\n",
       " (1.2712767721560567, 14.457713227843943),\n",
       " [0.0,\n",
       "  0.0,\n",
       "  0.0,\n",
       "  0.0,\n",
       "  0.0,\n",
       "  0.0,\n",
       "  0.0,\n",
       "  0.0,\n",
       "  0.0,\n",
       "  0.0,\n",
       "  0.0,\n",
       "  0.0,\n",
       "  0.0,\n",
       "  0.0,\n",
       "  0.0,\n",
       "  0.0,\n",
       "  0.0,\n",
       "  0.0,\n",
       "  0.0,\n",
       "  0.0])"
      ]
     },
     "execution_count": 256,
     "metadata": {},
     "output_type": "execute_result"
    }
   ],
   "source": [
    "total_hisp = []\n",
    "\n",
    "for i in range(simulations):\n",
    "    male_hisp = congress_results_dict['Male_Hispanic'][i]\n",
    "    female_hisp = congress_results_dict['Female_Hispanic'][i]\n",
    "    total_hisp.append(male_hisp + female_hisp)\n",
    "\n",
    "        \n",
    "total_hisp.sort()\n",
    "stdev = np.std(total_hisp)\n",
    "hisp_ave = np.mean(total_hisp)\n",
    "hisp_ave, ((hisp_ave - 2.576*stdev), (hisp_ave + 2.576*stdev)), total_hisp[:20]"
   ]
  },
  {
   "cell_type": "code",
   "execution_count": 258,
   "metadata": {},
   "outputs": [
    {
     "data": {
      "text/plain": [
       "(6.486035,\n",
       " (0.6263993695571255, 12.345670630442875),\n",
       " [0.0,\n",
       "  0.0,\n",
       "  0.0,\n",
       "  0.0,\n",
       "  0.0,\n",
       "  0.0,\n",
       "  0.0,\n",
       "  0.0,\n",
       "  0.0,\n",
       "  0.0,\n",
       "  0.0,\n",
       "  0.0,\n",
       "  0.0,\n",
       "  0.0,\n",
       "  0.0,\n",
       "  0.0,\n",
       "  0.0,\n",
       "  0.0,\n",
       "  0.0,\n",
       "  0.0])"
      ]
     },
     "execution_count": 258,
     "metadata": {},
     "output_type": "execute_result"
    }
   ],
   "source": [
    "total_other = []\n",
    "\n",
    "for i in range(simulations):\n",
    "    male_other = congress_results_dict['Male_Other'][i]\n",
    "    female_other = congress_results_dict['Female_Other'][i]\n",
    "    total_other.append(female_other + male_other)\n",
    "\n",
    "        \n",
    "total_other.sort()\n",
    "stdev = np.std(total_other)\n",
    "other_ave = np.mean(total_other)\n",
    "other_ave, ((other_ave - 2.576*stdev), (other_ave + 2.576*stdev)), total_other[:20]"
   ]
  },
  {
   "cell_type": "code",
   "execution_count": null,
   "metadata": {},
   "outputs": [],
   "source": []
  }
 ],
 "metadata": {
  "anaconda-cloud": {},
  "kernelspec": {
   "display_name": "Python 3",
   "language": "python",
   "name": "python3"
  },
  "language_info": {
   "codemirror_mode": {
    "name": "ipython",
    "version": 3
   },
   "file_extension": ".py",
   "mimetype": "text/x-python",
   "name": "python",
   "nbconvert_exporter": "python",
   "pygments_lexer": "ipython3",
   "version": "3.7.4"
  }
 },
 "nbformat": 4,
 "nbformat_minor": 1
}
